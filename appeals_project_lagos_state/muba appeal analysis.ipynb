{
 "cells": [
  {
   "cell_type": "code",
   "execution_count": 4,
   "id": "a4a571fb",
   "metadata": {},
   "outputs": [],
   "source": [
    "import pandas as pd\n",
    "import numpy as np\n",
    "import matplotlib.pyplot as plt\n",
    "import seaborn as sns"
   ]
  },
  {
   "cell_type": "code",
   "execution_count": 5,
   "id": "834d1151",
   "metadata": {},
   "outputs": [],
   "source": [
    "import os"
   ]
  },
  {
   "cell_type": "code",
   "execution_count": 6,
   "id": "3f613a2b",
   "metadata": {},
   "outputs": [
    {
     "data": {
      "text/plain": [
       "'C:\\\\Users\\\\PERSONAL\\\\Desktop\\\\JUPYTER'"
      ]
     },
     "execution_count": 6,
     "metadata": {},
     "output_type": "execute_result"
    }
   ],
   "source": [
    "os.getcwd()"
   ]
  },
  {
   "cell_type": "code",
   "execution_count": 7,
   "id": "af1b570a",
   "metadata": {},
   "outputs": [
    {
     "data": {
      "text/plain": [
       "'C:\\\\Users\\\\PERSONAL\\\\Desktop\\\\JUPYTER'"
      ]
     },
     "execution_count": 7,
     "metadata": {},
     "output_type": "execute_result"
    }
   ],
   "source": [
    "pwd"
   ]
  },
  {
   "cell_type": "code",
   "execution_count": 8,
   "id": "89ae699e",
   "metadata": {},
   "outputs": [],
   "source": [
    "data = pd.read_csv('C:\\\\Users\\\\PERSONAL\\\\Desktop\\\\JUPYTER\\muba.csv')"
   ]
  },
  {
   "cell_type": "code",
   "execution_count": 21,
   "id": "57bb3c1d",
   "metadata": {},
   "outputs": [
    {
     "data": {
      "text/html": [
       "<div>\n",
       "<style scoped>\n",
       "    .dataframe tbody tr th:only-of-type {\n",
       "        vertical-align: middle;\n",
       "    }\n",
       "\n",
       "    .dataframe tbody tr th {\n",
       "        vertical-align: top;\n",
       "    }\n",
       "\n",
       "    .dataframe thead th {\n",
       "        text-align: right;\n",
       "    }\n",
       "</style>\n",
       "<table border=\"1\" class=\"dataframe\">\n",
       "  <thead>\n",
       "    <tr style=\"text-align: right;\">\n",
       "      <th></th>\n",
       "      <th>LOCAL GOVERNMENT</th>\n",
       "      <th>Household number</th>\n",
       "      <th>Interviewer’s name:</th>\n",
       "      <th>Enter a date and time</th>\n",
       "      <th>What is your income level before intervention</th>\n",
       "      <th>what is your income level after intervention</th>\n",
       "      <th>What is your assets worth before intervention</th>\n",
       "      <th>What is your assets worth after intervention</th>\n",
       "      <th>Do you own a house</th>\n",
       "      <th>Do you have access to good water ?</th>\n",
       "      <th>...</th>\n",
       "      <th>8. Does your poultry farm meet the standard requirement from various importing countries desiring export of poultry produce from Nigeria?</th>\n",
       "      <th>_id</th>\n",
       "      <th>_uuid</th>\n",
       "      <th>_submission_time</th>\n",
       "      <th>_validation_status</th>\n",
       "      <th>_notes</th>\n",
       "      <th>_status</th>\n",
       "      <th>_submitted_by</th>\n",
       "      <th>_tags</th>\n",
       "      <th>_index</th>\n",
       "    </tr>\n",
       "  </thead>\n",
       "  <tbody>\n",
       "    <tr>\n",
       "      <th>0</th>\n",
       "      <td>Ifako  Ijaye</td>\n",
       "      <td>3.0</td>\n",
       "      <td>ADARANIJO OLA</td>\n",
       "      <td>2022-04-07</td>\n",
       "      <td>NaN</td>\n",
       "      <td>NaN</td>\n",
       "      <td>NaN</td>\n",
       "      <td>NaN</td>\n",
       "      <td>NaN</td>\n",
       "      <td>NaN</td>\n",
       "      <td>...</td>\n",
       "      <td>NaN</td>\n",
       "      <td>277307983</td>\n",
       "      <td>f23d1dc9-4ffd-4749-bca8-82aa9afb15ba</td>\n",
       "      <td>2022-04-07</td>\n",
       "      <td>NaN</td>\n",
       "      <td>NaN</td>\n",
       "      <td>submitted_via_web</td>\n",
       "      <td>NaN</td>\n",
       "      <td>NaN</td>\n",
       "      <td>12</td>\n",
       "    </tr>\n",
       "    <tr>\n",
       "      <th>1</th>\n",
       "      <td>Ifako  Ijaye</td>\n",
       "      <td>6.0</td>\n",
       "      <td>Omoluwa oluwakemi</td>\n",
       "      <td>2022-04-09</td>\n",
       "      <td>7200000.0</td>\n",
       "      <td>1100000.0</td>\n",
       "      <td>6000000.0</td>\n",
       "      <td>6500000.0</td>\n",
       "      <td>Yes</td>\n",
       "      <td>Yes</td>\n",
       "      <td>...</td>\n",
       "      <td>NaN</td>\n",
       "      <td>277914007</td>\n",
       "      <td>0d804813-9f64-412b-9514-bb841e2f4a8e</td>\n",
       "      <td>2022-04-10</td>\n",
       "      <td>NaN</td>\n",
       "      <td>NaN</td>\n",
       "      <td>submitted_via_web</td>\n",
       "      <td>NaN</td>\n",
       "      <td>NaN</td>\n",
       "      <td>82</td>\n",
       "    </tr>\n",
       "    <tr>\n",
       "      <th>2</th>\n",
       "      <td>Alimosho</td>\n",
       "      <td>4.0</td>\n",
       "      <td>Giwa shotunde</td>\n",
       "      <td>2022-04-07</td>\n",
       "      <td>600000.0</td>\n",
       "      <td>750000.0</td>\n",
       "      <td>18000000.0</td>\n",
       "      <td>2000000.0</td>\n",
       "      <td>No</td>\n",
       "      <td>Yes</td>\n",
       "      <td>...</td>\n",
       "      <td>NaN</td>\n",
       "      <td>277914475</td>\n",
       "      <td>7cd8d383-234e-4c14-bd94-3c5f4bb9fb9f</td>\n",
       "      <td>2022-04-10</td>\n",
       "      <td>NaN</td>\n",
       "      <td>NaN</td>\n",
       "      <td>submitted_via_web</td>\n",
       "      <td>NaN</td>\n",
       "      <td>NaN</td>\n",
       "      <td>83</td>\n",
       "    </tr>\n",
       "    <tr>\n",
       "      <th>3</th>\n",
       "      <td>Ifako  Ijaye</td>\n",
       "      <td>4.0</td>\n",
       "      <td>Ogedengbe titilope</td>\n",
       "      <td>2022-04-09</td>\n",
       "      <td>2500000.0</td>\n",
       "      <td>3000000.0</td>\n",
       "      <td>3500000.0</td>\n",
       "      <td>4000000.0</td>\n",
       "      <td>Yes</td>\n",
       "      <td>Yes</td>\n",
       "      <td>...</td>\n",
       "      <td>NaN</td>\n",
       "      <td>277956868</td>\n",
       "      <td>5aa618d4-a54e-4f16-b3ad-5debb2598cdc</td>\n",
       "      <td>2022-04-10</td>\n",
       "      <td>NaN</td>\n",
       "      <td>NaN</td>\n",
       "      <td>submitted_via_web</td>\n",
       "      <td>NaN</td>\n",
       "      <td>NaN</td>\n",
       "      <td>87</td>\n",
       "    </tr>\n",
       "    <tr>\n",
       "      <th>4</th>\n",
       "      <td>Ifako  Ijaye</td>\n",
       "      <td>4.0</td>\n",
       "      <td>OWOSHENI TOLULOPE</td>\n",
       "      <td>2022-04-09</td>\n",
       "      <td>1900000.0</td>\n",
       "      <td>2300000.0</td>\n",
       "      <td>600000.0</td>\n",
       "      <td>7500000.0</td>\n",
       "      <td>Yes</td>\n",
       "      <td>Yes</td>\n",
       "      <td>...</td>\n",
       "      <td>NaN</td>\n",
       "      <td>278008695</td>\n",
       "      <td>6d61d61d-0ec9-4b9b-b136-f0e68f69ea76</td>\n",
       "      <td>2022-04-11</td>\n",
       "      <td>NaN</td>\n",
       "      <td>NaN</td>\n",
       "      <td>submitted_via_web</td>\n",
       "      <td>NaN</td>\n",
       "      <td>NaN</td>\n",
       "      <td>92</td>\n",
       "    </tr>\n",
       "    <tr>\n",
       "      <th>...</th>\n",
       "      <td>...</td>\n",
       "      <td>...</td>\n",
       "      <td>...</td>\n",
       "      <td>...</td>\n",
       "      <td>...</td>\n",
       "      <td>...</td>\n",
       "      <td>...</td>\n",
       "      <td>...</td>\n",
       "      <td>...</td>\n",
       "      <td>...</td>\n",
       "      <td>...</td>\n",
       "      <td>...</td>\n",
       "      <td>...</td>\n",
       "      <td>...</td>\n",
       "      <td>...</td>\n",
       "      <td>...</td>\n",
       "      <td>...</td>\n",
       "      <td>...</td>\n",
       "      <td>...</td>\n",
       "      <td>...</td>\n",
       "      <td>...</td>\n",
       "    </tr>\n",
       "    <tr>\n",
       "      <th>276</th>\n",
       "      <td>Ikorodu</td>\n",
       "      <td>4.0</td>\n",
       "      <td>Fajimi Ifedolapo Omobolade</td>\n",
       "      <td>2022-04-19</td>\n",
       "      <td>50000.0</td>\n",
       "      <td>70000.0</td>\n",
       "      <td>5000000.0</td>\n",
       "      <td>7000000.0</td>\n",
       "      <td>No</td>\n",
       "      <td>Yes</td>\n",
       "      <td>...</td>\n",
       "      <td>NaN</td>\n",
       "      <td>280233099</td>\n",
       "      <td>6bb88a27-b137-455b-9b28-75322d61d74d</td>\n",
       "      <td>2022-04-19</td>\n",
       "      <td>NaN</td>\n",
       "      <td>NaN</td>\n",
       "      <td>submitted_via_web</td>\n",
       "      <td>NaN</td>\n",
       "      <td>NaN</td>\n",
       "      <td>263</td>\n",
       "    </tr>\n",
       "    <tr>\n",
       "      <th>277</th>\n",
       "      <td>Ikorodu</td>\n",
       "      <td>7.0</td>\n",
       "      <td>Lameed Monsurat</td>\n",
       "      <td>2022-04-19</td>\n",
       "      <td>40000.0</td>\n",
       "      <td>50000.0</td>\n",
       "      <td>1000000.0</td>\n",
       "      <td>1500000.0</td>\n",
       "      <td>Yes</td>\n",
       "      <td>Yes</td>\n",
       "      <td>...</td>\n",
       "      <td>NaN</td>\n",
       "      <td>280233148</td>\n",
       "      <td>d43a8fea-9bc8-4594-af87-fe5c685b16b0</td>\n",
       "      <td>2022-04-19</td>\n",
       "      <td>NaN</td>\n",
       "      <td>NaN</td>\n",
       "      <td>submitted_via_web</td>\n",
       "      <td>NaN</td>\n",
       "      <td>NaN</td>\n",
       "      <td>264</td>\n",
       "    </tr>\n",
       "    <tr>\n",
       "      <th>278</th>\n",
       "      <td>Ikorodu</td>\n",
       "      <td>6.0</td>\n",
       "      <td>Yahya-Abdulazeez Qudrah kehinde</td>\n",
       "      <td>2022-04-19</td>\n",
       "      <td>110000.0</td>\n",
       "      <td>250000.0</td>\n",
       "      <td>1500000.0</td>\n",
       "      <td>1250000.0</td>\n",
       "      <td>Yes</td>\n",
       "      <td>Yes</td>\n",
       "      <td>...</td>\n",
       "      <td>NaN</td>\n",
       "      <td>280233572</td>\n",
       "      <td>27df31e8-af8b-415c-a76d-49283d8a0d53</td>\n",
       "      <td>2022-04-19</td>\n",
       "      <td>NaN</td>\n",
       "      <td>NaN</td>\n",
       "      <td>submitted_via_web</td>\n",
       "      <td>NaN</td>\n",
       "      <td>NaN</td>\n",
       "      <td>265</td>\n",
       "    </tr>\n",
       "    <tr>\n",
       "      <th>279</th>\n",
       "      <td>Ikorodu</td>\n",
       "      <td>3.0</td>\n",
       "      <td>AKINBOBOYE CHARLES OLUFEMI</td>\n",
       "      <td>2022-04-14</td>\n",
       "      <td>80000.0</td>\n",
       "      <td>80000.0</td>\n",
       "      <td>1000000.0</td>\n",
       "      <td>1180000.0</td>\n",
       "      <td>No</td>\n",
       "      <td>Yes</td>\n",
       "      <td>...</td>\n",
       "      <td>NaN</td>\n",
       "      <td>280235542</td>\n",
       "      <td>9e374e30-fa59-4991-b6f1-7708180108a6</td>\n",
       "      <td>2022-04-19</td>\n",
       "      <td>NaN</td>\n",
       "      <td>NaN</td>\n",
       "      <td>submitted_via_web</td>\n",
       "      <td>NaN</td>\n",
       "      <td>NaN</td>\n",
       "      <td>266</td>\n",
       "    </tr>\n",
       "    <tr>\n",
       "      <th>280</th>\n",
       "      <td>Ikorodu</td>\n",
       "      <td>6.0</td>\n",
       "      <td>Badejo Taiwo</td>\n",
       "      <td>2022-04-06</td>\n",
       "      <td>NaN</td>\n",
       "      <td>NaN</td>\n",
       "      <td>NaN</td>\n",
       "      <td>NaN</td>\n",
       "      <td>NaN</td>\n",
       "      <td>NaN</td>\n",
       "      <td>...</td>\n",
       "      <td>NaN</td>\n",
       "      <td>278073103</td>\n",
       "      <td>c90c28a4-e61d-4784-8379-a441d69950a1</td>\n",
       "      <td>2022-04-11</td>\n",
       "      <td>NaN</td>\n",
       "      <td>NaN</td>\n",
       "      <td>submitted_via_web</td>\n",
       "      <td>NaN</td>\n",
       "      <td>NaN</td>\n",
       "      <td>94</td>\n",
       "    </tr>\n",
       "  </tbody>\n",
       "</table>\n",
       "<p>281 rows × 89 columns</p>\n",
       "</div>"
      ],
      "text/plain": [
       "    LOCAL GOVERNMENT   Household number              Interviewer’s name:   \\\n",
       "0        Ifako  Ijaye               3.0                     ADARANIJO OLA   \n",
       "1        Ifako  Ijaye               6.0                 Omoluwa oluwakemi   \n",
       "2            Alimosho               4.0                     Giwa shotunde   \n",
       "3        Ifako  Ijaye               4.0                Ogedengbe titilope   \n",
       "4        Ifako  Ijaye               4.0                 OWOSHENI TOLULOPE   \n",
       "..                ...               ...                               ...   \n",
       "276           Ikorodu               4.0        Fajimi Ifedolapo Omobolade   \n",
       "277           Ikorodu               7.0                   Lameed Monsurat   \n",
       "278           Ikorodu               6.0  Yahya-Abdulazeez Qudrah kehinde    \n",
       "279           Ikorodu               3.0        AKINBOBOYE CHARLES OLUFEMI   \n",
       "280           Ikorodu               6.0                      Badejo Taiwo   \n",
       "\n",
       "    Enter a date and time  What is your income level before intervention  \\\n",
       "0              2022-04-07                                            NaN   \n",
       "1              2022-04-09                                      7200000.0   \n",
       "2              2022-04-07                                       600000.0   \n",
       "3              2022-04-09                                      2500000.0   \n",
       "4              2022-04-09                                      1900000.0   \n",
       "..                    ...                                            ...   \n",
       "276            2022-04-19                                        50000.0   \n",
       "277            2022-04-19                                        40000.0   \n",
       "278            2022-04-19                                       110000.0   \n",
       "279            2022-04-14                                        80000.0   \n",
       "280            2022-04-06                                            NaN   \n",
       "\n",
       "     what is your income level after intervention   \\\n",
       "0                                              NaN   \n",
       "1                                        1100000.0   \n",
       "2                                         750000.0   \n",
       "3                                        3000000.0   \n",
       "4                                        2300000.0   \n",
       "..                                             ...   \n",
       "276                                        70000.0   \n",
       "277                                        50000.0   \n",
       "278                                       250000.0   \n",
       "279                                        80000.0   \n",
       "280                                            NaN   \n",
       "\n",
       "     What is your assets worth before intervention   \\\n",
       "0                                               NaN   \n",
       "1                                         6000000.0   \n",
       "2                                        18000000.0   \n",
       "3                                         3500000.0   \n",
       "4                                          600000.0   \n",
       "..                                              ...   \n",
       "276                                       5000000.0   \n",
       "277                                       1000000.0   \n",
       "278                                       1500000.0   \n",
       "279                                       1000000.0   \n",
       "280                                             NaN   \n",
       "\n",
       "     What is your assets worth after intervention  Do you own a house  \\\n",
       "0                                              NaN                NaN   \n",
       "1                                        6500000.0                Yes   \n",
       "2                                        2000000.0                 No   \n",
       "3                                        4000000.0                Yes   \n",
       "4                                        7500000.0                Yes   \n",
       "..                                             ...                ...   \n",
       "276                                      7000000.0                 No   \n",
       "277                                      1500000.0                Yes   \n",
       "278                                      1250000.0                Yes   \n",
       "279                                      1180000.0                 No   \n",
       "280                                            NaN                NaN   \n",
       "\n",
       "    Do you have access to good water ?  ...  \\\n",
       "0                                  NaN  ...   \n",
       "1                                  Yes  ...   \n",
       "2                                  Yes  ...   \n",
       "3                                  Yes  ...   \n",
       "4                                  Yes  ...   \n",
       "..                                 ...  ...   \n",
       "276                                Yes  ...   \n",
       "277                                Yes  ...   \n",
       "278                                Yes  ...   \n",
       "279                                Yes  ...   \n",
       "280                                NaN  ...   \n",
       "\n",
       "    8. Does your poultry farm meet the standard requirement from various importing countries desiring export of poultry produce from Nigeria?  \\\n",
       "0                                                  NaN                                                                                          \n",
       "1                                                  NaN                                                                                          \n",
       "2                                                  NaN                                                                                          \n",
       "3                                                  NaN                                                                                          \n",
       "4                                                  NaN                                                                                          \n",
       "..                                                 ...                                                                                          \n",
       "276                                                NaN                                                                                          \n",
       "277                                                NaN                                                                                          \n",
       "278                                                NaN                                                                                          \n",
       "279                                                NaN                                                                                          \n",
       "280                                                NaN                                                                                          \n",
       "\n",
       "           _id                                 _uuid _submission_time  \\\n",
       "0    277307983  f23d1dc9-4ffd-4749-bca8-82aa9afb15ba       2022-04-07   \n",
       "1    277914007  0d804813-9f64-412b-9514-bb841e2f4a8e       2022-04-10   \n",
       "2    277914475  7cd8d383-234e-4c14-bd94-3c5f4bb9fb9f       2022-04-10   \n",
       "3    277956868  5aa618d4-a54e-4f16-b3ad-5debb2598cdc       2022-04-10   \n",
       "4    278008695  6d61d61d-0ec9-4b9b-b136-f0e68f69ea76       2022-04-11   \n",
       "..         ...                                   ...              ...   \n",
       "276  280233099  6bb88a27-b137-455b-9b28-75322d61d74d       2022-04-19   \n",
       "277  280233148  d43a8fea-9bc8-4594-af87-fe5c685b16b0       2022-04-19   \n",
       "278  280233572  27df31e8-af8b-415c-a76d-49283d8a0d53       2022-04-19   \n",
       "279  280235542  9e374e30-fa59-4991-b6f1-7708180108a6       2022-04-19   \n",
       "280  278073103  c90c28a4-e61d-4784-8379-a441d69950a1       2022-04-11   \n",
       "\n",
       "    _validation_status _notes            _status _submitted_by _tags _index  \n",
       "0                  NaN    NaN  submitted_via_web           NaN   NaN     12  \n",
       "1                  NaN    NaN  submitted_via_web           NaN   NaN     82  \n",
       "2                  NaN    NaN  submitted_via_web           NaN   NaN     83  \n",
       "3                  NaN    NaN  submitted_via_web           NaN   NaN     87  \n",
       "4                  NaN    NaN  submitted_via_web           NaN   NaN     92  \n",
       "..                 ...    ...                ...           ...   ...    ...  \n",
       "276                NaN    NaN  submitted_via_web           NaN   NaN    263  \n",
       "277                NaN    NaN  submitted_via_web           NaN   NaN    264  \n",
       "278                NaN    NaN  submitted_via_web           NaN   NaN    265  \n",
       "279                NaN    NaN  submitted_via_web           NaN   NaN    266  \n",
       "280                NaN    NaN  submitted_via_web           NaN   NaN     94  \n",
       "\n",
       "[281 rows x 89 columns]"
      ]
     },
     "execution_count": 21,
     "metadata": {},
     "output_type": "execute_result"
    }
   ],
   "source": [
    "data"
   ]
  },
  {
   "cell_type": "code",
   "execution_count": 22,
   "id": "7fa6a5ef",
   "metadata": {},
   "outputs": [
    {
     "data": {
      "text/plain": [
       "<bound method NDFrame.head of     LOCAL GOVERNMENT   Household number              Interviewer’s name:   \\\n",
       "0        Ifako  Ijaye               3.0                     ADARANIJO OLA   \n",
       "1        Ifako  Ijaye               6.0                 Omoluwa oluwakemi   \n",
       "2            Alimosho               4.0                     Giwa shotunde   \n",
       "3        Ifako  Ijaye               4.0                Ogedengbe titilope   \n",
       "4        Ifako  Ijaye               4.0                 OWOSHENI TOLULOPE   \n",
       "..                ...               ...                               ...   \n",
       "276           Ikorodu               4.0        Fajimi Ifedolapo Omobolade   \n",
       "277           Ikorodu               7.0                   Lameed Monsurat   \n",
       "278           Ikorodu               6.0  Yahya-Abdulazeez Qudrah kehinde    \n",
       "279           Ikorodu               3.0        AKINBOBOYE CHARLES OLUFEMI   \n",
       "280           Ikorodu               6.0                      Badejo Taiwo   \n",
       "\n",
       "    Enter a date and time  What is your income level before intervention  \\\n",
       "0              2022-04-07                                            NaN   \n",
       "1              2022-04-09                                      7200000.0   \n",
       "2              2022-04-07                                       600000.0   \n",
       "3              2022-04-09                                      2500000.0   \n",
       "4              2022-04-09                                      1900000.0   \n",
       "..                    ...                                            ...   \n",
       "276            2022-04-19                                        50000.0   \n",
       "277            2022-04-19                                        40000.0   \n",
       "278            2022-04-19                                       110000.0   \n",
       "279            2022-04-14                                        80000.0   \n",
       "280            2022-04-06                                            NaN   \n",
       "\n",
       "     what is your income level after intervention   \\\n",
       "0                                              NaN   \n",
       "1                                        1100000.0   \n",
       "2                                         750000.0   \n",
       "3                                        3000000.0   \n",
       "4                                        2300000.0   \n",
       "..                                             ...   \n",
       "276                                        70000.0   \n",
       "277                                        50000.0   \n",
       "278                                       250000.0   \n",
       "279                                        80000.0   \n",
       "280                                            NaN   \n",
       "\n",
       "     What is your assets worth before intervention   \\\n",
       "0                                               NaN   \n",
       "1                                         6000000.0   \n",
       "2                                        18000000.0   \n",
       "3                                         3500000.0   \n",
       "4                                          600000.0   \n",
       "..                                              ...   \n",
       "276                                       5000000.0   \n",
       "277                                       1000000.0   \n",
       "278                                       1500000.0   \n",
       "279                                       1000000.0   \n",
       "280                                             NaN   \n",
       "\n",
       "     What is your assets worth after intervention  Do you own a house  \\\n",
       "0                                              NaN                NaN   \n",
       "1                                        6500000.0                Yes   \n",
       "2                                        2000000.0                 No   \n",
       "3                                        4000000.0                Yes   \n",
       "4                                        7500000.0                Yes   \n",
       "..                                             ...                ...   \n",
       "276                                      7000000.0                 No   \n",
       "277                                      1500000.0                Yes   \n",
       "278                                      1250000.0                Yes   \n",
       "279                                      1180000.0                 No   \n",
       "280                                            NaN                NaN   \n",
       "\n",
       "    Do you have access to good water ?  ...  \\\n",
       "0                                  NaN  ...   \n",
       "1                                  Yes  ...   \n",
       "2                                  Yes  ...   \n",
       "3                                  Yes  ...   \n",
       "4                                  Yes  ...   \n",
       "..                                 ...  ...   \n",
       "276                                Yes  ...   \n",
       "277                                Yes  ...   \n",
       "278                                Yes  ...   \n",
       "279                                Yes  ...   \n",
       "280                                NaN  ...   \n",
       "\n",
       "    8. Does your poultry farm meet the standard requirement from various importing countries desiring export of poultry produce from Nigeria?  \\\n",
       "0                                                  NaN                                                                                          \n",
       "1                                                  NaN                                                                                          \n",
       "2                                                  NaN                                                                                          \n",
       "3                                                  NaN                                                                                          \n",
       "4                                                  NaN                                                                                          \n",
       "..                                                 ...                                                                                          \n",
       "276                                                NaN                                                                                          \n",
       "277                                                NaN                                                                                          \n",
       "278                                                NaN                                                                                          \n",
       "279                                                NaN                                                                                          \n",
       "280                                                NaN                                                                                          \n",
       "\n",
       "           _id                                 _uuid _submission_time  \\\n",
       "0    277307983  f23d1dc9-4ffd-4749-bca8-82aa9afb15ba       2022-04-07   \n",
       "1    277914007  0d804813-9f64-412b-9514-bb841e2f4a8e       2022-04-10   \n",
       "2    277914475  7cd8d383-234e-4c14-bd94-3c5f4bb9fb9f       2022-04-10   \n",
       "3    277956868  5aa618d4-a54e-4f16-b3ad-5debb2598cdc       2022-04-10   \n",
       "4    278008695  6d61d61d-0ec9-4b9b-b136-f0e68f69ea76       2022-04-11   \n",
       "..         ...                                   ...              ...   \n",
       "276  280233099  6bb88a27-b137-455b-9b28-75322d61d74d       2022-04-19   \n",
       "277  280233148  d43a8fea-9bc8-4594-af87-fe5c685b16b0       2022-04-19   \n",
       "278  280233572  27df31e8-af8b-415c-a76d-49283d8a0d53       2022-04-19   \n",
       "279  280235542  9e374e30-fa59-4991-b6f1-7708180108a6       2022-04-19   \n",
       "280  278073103  c90c28a4-e61d-4784-8379-a441d69950a1       2022-04-11   \n",
       "\n",
       "    _validation_status _notes            _status _submitted_by _tags _index  \n",
       "0                  NaN    NaN  submitted_via_web           NaN   NaN     12  \n",
       "1                  NaN    NaN  submitted_via_web           NaN   NaN     82  \n",
       "2                  NaN    NaN  submitted_via_web           NaN   NaN     83  \n",
       "3                  NaN    NaN  submitted_via_web           NaN   NaN     87  \n",
       "4                  NaN    NaN  submitted_via_web           NaN   NaN     92  \n",
       "..                 ...    ...                ...           ...   ...    ...  \n",
       "276                NaN    NaN  submitted_via_web           NaN   NaN    263  \n",
       "277                NaN    NaN  submitted_via_web           NaN   NaN    264  \n",
       "278                NaN    NaN  submitted_via_web           NaN   NaN    265  \n",
       "279                NaN    NaN  submitted_via_web           NaN   NaN    266  \n",
       "280                NaN    NaN  submitted_via_web           NaN   NaN     94  \n",
       "\n",
       "[281 rows x 89 columns]>"
      ]
     },
     "execution_count": 22,
     "metadata": {},
     "output_type": "execute_result"
    }
   ],
   "source": [
    "data.head"
   ]
  },
  {
   "cell_type": "code",
   "execution_count": 23,
   "id": "8e455d9a",
   "metadata": {},
   "outputs": [
    {
     "data": {
      "text/plain": [
       "Index(['LOCAL GOVERNMENT ', 'Household number', 'Interviewer’s name: ',\n",
       "       'Enter a date and time',\n",
       "       'What is your income level before intervention',\n",
       "       'what is your income level after intervention ',\n",
       "       'What is your assets worth before intervention ',\n",
       "       'What is your assets worth after intervention ', 'Do you own a house',\n",
       "       'Do you have access to good water ?',\n",
       "       'Do you have access to electricity ',\n",
       "       'Do you have access to waste management', 'Do you have toilet facility',\n",
       "       'How safe is your farmland in terms of external intruder',\n",
       "       'factor affecting success of your business',\n",
       "       'Does the project affect your standard of living (livelihood)',\n",
       "       'Your Value Chain under APPEALS: ', 'name of farm ', 'address of farm ',\n",
       "       'local government of farm ', 'Type of ownership of farm',\n",
       "       'The number of people who depend on the fish farm for sustenance.',\n",
       "       'What other sources of income does the farmers have',\n",
       "       'Method of farming', 'Species of fish produced',\n",
       "       'Sources of water supply to the pond', 'Size of pond',\n",
       "       'Number of ponds', 'Age of the farm',\n",
       "       'How many fish production cycles have you completed with the HARVEST program?',\n",
       "       'In the past 12 months, approximately how much total fish did this household produce?',\n",
       "       'Approximately how much of your harvest did this household consume as food',\n",
       "       'What kind of feed are given to the fish',\n",
       "       'What type of fertilizer is used in the ponds.',\n",
       "       'Methods of harvesting', 'What kind of Labour is used ',\n",
       "       'Do you use fish farming technology presently? ',\n",
       "       'If no, how likely are you to use these fish farming technologies in the future?',\n",
       "       'What are the barriers to adoption of new/improved farming practices or technologies',\n",
       "       'Information on environmental impact of farming and the conservation status of the  species farmed.',\n",
       "       'Quantity of harvest fish in the past 12 months',\n",
       "       'Destination of harvested fish in the past 12 months',\n",
       "       'Level of assistance and advice sought by the farmers.',\n",
       "       'The main problems faced by the farmers.',\n",
       "       'what kind of challenges do you face in exporting of aquaculture produce, from production, processing to logistics.',\n",
       "       'what kind of challenges do you face in exporting of aquaculture production',\n",
       "       'what kind of challenges do you face in exporting of aquaculture processing',\n",
       "       'what kind of challenges do you face in exporting of aquaculture logistics',\n",
       "       'Does your fish farm meet the standard requirement from various importing countries desiring export of aquaculture from Nigeria',\n",
       "       'Location of farm',\n",
       "       'Does the farm operate independently or as part of a vertically integrated operation? ',\n",
       "       ' If part of an integrated operation, what is the name of the integrator the farm is associated with?',\n",
       "       'What is the total capacity of this farm?',\n",
       "       'Does your poultry farm have bird hatchery that provides high quality hatched eggs?',\n",
       "       'What challenges does your farm face in the production of poultry birds?',\n",
       "       'What challenges does your farm face in the processing of poultry birds?',\n",
       "       'What challenges does your farm face in the marketing of poultry birds?',\n",
       "       'How do you mitigate against disease outbreak in your farm?',\n",
       "       'Does your poultry farm meet the standard requirement from various importing countries desiring export of poultry produce from Nigeria?',\n",
       "       'Does your farm have access to modernized technology?',\n",
       "       'Does your farm require any Government or technical assistance? ',\n",
       "       'If yes, specify. ',\n",
       "       'What is the estimate of the area cultivated in the last 12 months',\n",
       "       'The output in the last 12 months',\n",
       "       'the total yield in the last 12 months',\n",
       "       'What is the total quantity of rice produced in the last 12 months',\n",
       "       'What is the total quantity of rice processed in the last 12 months',\n",
       "       'What is the total quantity of rice marketed in the last 12 months',\n",
       "       'Does the farmer have access to improved agricultural inputs and other technologies?',\n",
       "       '• What challenges/factor does your farm face in the production of rice produced',\n",
       "       '• What challenges/factor does your farm face in the processing of rice produced',\n",
       "       '• What challenges/factor does your farm face in the marketing of rice produced',\n",
       "       'What type of rice is planted on this farm? ',\n",
       "       'Was an herbicide resistant rice seed planted on this farm?',\n",
       "       'Source of rice seed',\n",
       "       ' Does your rice farm meet the standard requirement from various importing countries desiring export of rice from Nigeria?',\n",
       "       'challenges faced by the enumerator ', 'Location of fish farm',\n",
       "       'Sources of water',\n",
       "       '8. Does your poultry farm meet the standard requirement from various importing countries desiring export of poultry produce from Nigeria?',\n",
       "       '_id', '_uuid', '_submission_time', '_validation_status', '_notes',\n",
       "       '_status', '_submitted_by', '_tags', '_index'],\n",
       "      dtype='object')"
      ]
     },
     "execution_count": 23,
     "metadata": {},
     "output_type": "execute_result"
    }
   ],
   "source": [
    "data.columns"
   ]
  },
  {
   "cell_type": "code",
   "execution_count": 24,
   "id": "6fa84353",
   "metadata": {},
   "outputs": [],
   "source": [
    "local_government = data['LOCAL GOVERNMENT '].value_counts()"
   ]
  },
  {
   "cell_type": "code",
   "execution_count": 25,
   "id": "d17302b0",
   "metadata": {},
   "outputs": [
    {
     "data": {
      "text/plain": [
       "Alimosho         75\n",
       "Ikorodu          50\n",
       "Agege            38\n",
       "Epe              29\n",
       "Ibeju Lekki      29\n",
       "Badagry          21\n",
       "Ifako  Ijaye     19\n",
       "Ojo              14\n",
       "Amuwo  Odofin     2\n",
       "Kosofe            1\n",
       "Oshodi Isolo      1\n",
       "Mushin            1\n",
       "Apapa             1\n",
       "Name: LOCAL GOVERNMENT , dtype: int64"
      ]
     },
     "execution_count": 25,
     "metadata": {},
     "output_type": "execute_result"
    }
   ],
   "source": [
    "local_government "
   ]
  },
  {
   "cell_type": "code",
   "execution_count": 26,
   "id": "a9f19c60",
   "metadata": {},
   "outputs": [
    {
     "name": "stdout",
     "output_type": "stream",
     "text": [
      "No     137\n",
      "Yes     95\n",
      "Name: Do you own a house, dtype: int64\n"
     ]
    }
   ],
   "source": [
    "print(data['Do you own a house'].value_counts())"
   ]
  },
  {
   "cell_type": "code",
   "execution_count": 27,
   "id": "6fbb71d4",
   "metadata": {},
   "outputs": [
    {
     "name": "stdout",
     "output_type": "stream",
     "text": [
      "Yes    206\n",
      "No      26\n",
      "Name: Do you have access to good water ?, dtype: int64\n"
     ]
    }
   ],
   "source": [
    "print(data['Do you have access to good water ?'].value_counts())"
   ]
  },
  {
   "cell_type": "code",
   "execution_count": 28,
   "id": "9b79c118",
   "metadata": {},
   "outputs": [
    {
     "name": "stdout",
     "output_type": "stream",
     "text": [
      "Yes    186\n",
      "No      46\n",
      "Name: Do you have access to electricity , dtype: int64\n"
     ]
    }
   ],
   "source": [
    "print(data['Do you have access to electricity '].value_counts())"
   ]
  },
  {
   "cell_type": "code",
   "execution_count": 29,
   "id": "99d93e9e",
   "metadata": {},
   "outputs": [
    {
     "name": "stdout",
     "output_type": "stream",
     "text": [
      "Yes    207\n",
      "No      25\n",
      "Name: Do you have access to waste management, dtype: int64\n"
     ]
    }
   ],
   "source": [
    "print(data['Do you have access to waste management'].value_counts())"
   ]
  },
  {
   "cell_type": "code",
   "execution_count": 30,
   "id": "4ac9e63b",
   "metadata": {},
   "outputs": [
    {
     "name": "stdout",
     "output_type": "stream",
     "text": [
      "Yes    213\n",
      "No      19\n",
      "Name: Do you have toilet facility, dtype: int64\n"
     ]
    }
   ],
   "source": [
    "print(data['Do you have toilet facility'].value_counts())"
   ]
  },
  {
   "cell_type": "code",
   "execution_count": 31,
   "id": "0a0fb90a",
   "metadata": {},
   "outputs": [
    {
     "name": "stdout",
     "output_type": "stream",
     "text": [
      "Safe         149\n",
      "very safe     73\n",
      "Not safe       3\n",
      "Name: How safe is your farmland in terms of external intruder, dtype: int64\n"
     ]
    }
   ],
   "source": [
    "print(data['How safe is your farmland in terms of external intruder'].value_counts())"
   ]
  },
  {
   "cell_type": "markdown",
   "id": "300e1a1d",
   "metadata": {},
   "source": [
    "## Mr Seun's Check"
   ]
  },
  {
   "cell_type": "code",
   "execution_count": 32,
   "id": "e0a738e1",
   "metadata": {},
   "outputs": [
    {
     "name": "stdout",
     "output_type": "stream",
     "text": [
      "HIGH COST OF INPUTS                                                             11\n",
      "High cost of land rent and labour                                                6\n",
      "FEED COST                                                                        3\n",
      "Funds. Experience                                                                2\n",
      "Finance                                                                          2\n",
      "                                                                                ..\n",
      "Electricity,  cost of production                                                 1\n",
      "Lack of fund, High cost of inputs, low quality of feeds and other materials      1\n",
      "Lack of fund                                                                     1\n",
      "High cost of inputs such as Day Old Chicks, Drugs and feeds                      1\n",
      "Power Marketing, Unstable prices of inputs, and cost of transportation.          1\n",
      "Name: factor affecting success of your business, Length: 203, dtype: int64\n"
     ]
    }
   ],
   "source": [
    "print(data['factor affecting success of your business'].value_counts())"
   ]
  },
  {
   "cell_type": "code",
   "execution_count": 33,
   "id": "5f33c24d",
   "metadata": {},
   "outputs": [
    {
     "name": "stdout",
     "output_type": "stream",
     "text": [
      "Yes    192\n",
      "No      30\n",
      "Name: Does the project affect your standard of living (livelihood), dtype: int64\n"
     ]
    }
   ],
   "source": [
    "print(data['Does the project affect your standard of living (livelihood)'].value_counts())"
   ]
  },
  {
   "cell_type": "code",
   "execution_count": 34,
   "id": "0734cd68",
   "metadata": {},
   "outputs": [
    {
     "name": "stdout",
     "output_type": "stream",
     "text": [
      "Aqualculture    136\n",
      "Poultry         108\n",
      "Rice             36\n",
      "Name: Your Value Chain under APPEALS: , dtype: int64\n"
     ]
    }
   ],
   "source": [
    "print(data['Your Value Chain under APPEALS: '].value_counts())"
   ]
  },
  {
   "cell_type": "code",
   "execution_count": 35,
   "id": "e1931631",
   "metadata": {},
   "outputs": [
    {
     "name": "stdout",
     "output_type": "stream",
     "text": [
      "Alimosho           46\n",
      "Ifako  Ijaye       22\n",
      "Ikorodu            22\n",
      "Badagry            14\n",
      "Ojo                10\n",
      "Epe                10\n",
      "Agege               6\n",
      "Ibeju Lekki         3\n",
      "Amuwo  Odofin       2\n",
      "Lagos Mainland      1\n",
      "Name: local government of farm , dtype: int64\n"
     ]
    }
   ],
   "source": [
    "print(data['local government of farm '].value_counts())"
   ]
  },
  {
   "cell_type": "code",
   "execution_count": 36,
   "id": "73d8b264",
   "metadata": {},
   "outputs": [
    {
     "name": "stdout",
     "output_type": "stream",
     "text": [
      "Private owned         128\n",
      "Co-operative owned      8\n",
      "Name: Type of ownership of farm, dtype: int64\n"
     ]
    }
   ],
   "source": [
    "print(data['Type of ownership of farm'].value_counts())"
   ]
  },
  {
   "cell_type": "markdown",
   "id": "b5f1617c",
   "metadata": {},
   "source": [
    "## Mr Seun's Check"
   ]
  },
  {
   "cell_type": "code",
   "execution_count": 37,
   "id": "9ed1ac88",
   "metadata": {},
   "outputs": [
    {
     "name": "stdout",
     "output_type": "stream",
     "text": [
      "Clarias                                   24\n",
      "Catfish                                   20\n",
      "CATFISH                                   16\n",
      "Cat fish                                  10\n",
      "Catfish                                    9\n",
      "Cat fish                                   8\n",
      "CATFISH                                    6\n",
      "TILAPIA                                    3\n",
      "CAT FISH                                   2\n",
      " CATFISH                                   2\n",
      "Tilapia \\nCATFISH                          2\n",
      "African Cat Fish                           1\n",
      "Catfish and tilapia                        1\n",
      "Tilapia and catfish                        1\n",
      "Catfish, Tilapia                           1\n",
      "Clarias and tilapia                        1\n",
      "CLARIAS CATFISH                            1\n",
      "Catfish and  Tilapia                       1\n",
      "Catfish & Tilapia                          1\n",
      "None                                       1\n",
      "Clarias.                                   1\n",
      "Clarias sp.                                1\n",
      "Heteroclarias, clarias, heterobranchus     1\n",
      "Nil                                        1\n",
      "Tilapia and                                1\n",
      "None                                       1\n",
      "Cat fish, panda and tilapia                1\n",
      "Cat fish and tilapia                       1\n",
      "Tilapia.                                   1\n",
      "Catfish table size                         1\n",
      "Claris                                     1\n",
      "NO IMPLEMENTATION YET                      1\n",
      "FRESH  FISH                                1\n",
      "CAT  FISH                                  1\n",
      "CAT FISH                                   1\n",
      "Tilapia \\nCATFISH                          1\n",
      "Catfish, tilapia                           1\n",
      "Name: Species of fish produced, dtype: int64\n"
     ]
    }
   ],
   "source": [
    "print(data['Species of fish produced'].value_counts())"
   ]
  },
  {
   "cell_type": "markdown",
   "id": "4580e948",
   "metadata": {},
   "source": [
    "## Mr Seun's Check"
   ]
  },
  {
   "cell_type": "code",
   "execution_count": 38,
   "id": "45a078fc",
   "metadata": {},
   "outputs": [
    {
     "name": "stdout",
     "output_type": "stream",
     "text": [
      "Borehole                                           33\n",
      "Borehole                                           30\n",
      "BOREHOLE                                            9\n",
      "BOREHOLE                                            6\n",
      "Bole hole                                           5\n",
      "Well                                                5\n",
      "Bole hole                                           4\n",
      "Stream water                                        3\n",
      "Borehole and well                                   3\n",
      "Bore hole                                           2\n",
      "Well                                                2\n",
      "OCEAN                                               2\n",
      "SEA/ RIVER                                          1\n",
      "Lagoon                                              1\n",
      "Bolehole                                            1\n",
      "Groundwater seepage (from swamp) tube well          1\n",
      "Groundwater seepage and well                        1\n",
      "Ground water seepage                                1\n",
      "Ground waterseepage (swap ), well and borehole      1\n",
      "Ground water seepage from swamp                     1\n",
      "Boreholes                                           1\n",
      "Well but it is now dried                            1\n",
      "BOREHOLE, STREAM                                    1\n",
      "Borehole and water                                  1\n",
      "Bole hole and stream water                          1\n",
      "Steam water                                         1\n",
      "STREAM                                              1\n",
      "OCEAN                                               1\n",
      "Bole Hole                                           1\n",
      "NO IMPLEMENTATION YET                               1\n",
      "Nature, borehole                                    1\n",
      "Name: Sources of water supply to the pond, dtype: int64\n"
     ]
    }
   ],
   "source": [
    "print(data['Sources of water supply to the pond'].value_counts())"
   ]
  },
  {
   "cell_type": "markdown",
   "id": "893dad78",
   "metadata": {},
   "source": [
    "## Mr Seun this enumerators are making my head to be turnioniown"
   ]
  },
  {
   "cell_type": "code",
   "execution_count": 39,
   "id": "e9af4720",
   "metadata": {},
   "outputs": [
    {
     "name": "stdout",
     "output_type": "stream",
     "text": [
      "140.0      15\n",
      "1313.0      7\n",
      "5000.0      6\n",
      "120.0       5\n",
      "10.0        4\n",
      "2500.0      4\n",
      "145.0       4\n",
      "14.0        3\n",
      "200.0       2\n",
      "2000.0      2\n",
      "25.0        2\n",
      "20.0        2\n",
      "6000.0      2\n",
      "148.0       1\n",
      "13.0        1\n",
      "160.0       1\n",
      "613.0       1\n",
      "1410.0      1\n",
      "15.0        1\n",
      "253.0       1\n",
      "139.0       1\n",
      "1000.0      1\n",
      "169.0       1\n",
      "814.0       1\n",
      "36.0        1\n",
      "616.0       1\n",
      "225.0       1\n",
      "22.0        1\n",
      "12000.0     1\n",
      "3500.0      1\n",
      "8000.0      1\n",
      "5300.0      1\n",
      "4000.0      1\n",
      "0.0         1\n",
      "10000.0     1\n",
      "1500.0      1\n",
      "130.0       1\n",
      "500.0       1\n",
      "Name: Size of pond, dtype: int64\n"
     ]
    }
   ],
   "source": [
    "print(data['Size of pond'].value_counts())"
   ]
  },
  {
   "cell_type": "markdown",
   "id": "8e4bf5f9",
   "metadata": {},
   "source": [
    "## Mr Seun check"
   ]
  },
  {
   "cell_type": "code",
   "execution_count": 40,
   "id": "22a8bc1e",
   "metadata": {},
   "outputs": [
    {
     "name": "stdout",
     "output_type": "stream",
     "text": [
      "Floating fish feeds                  9\n",
      "Probiotic feed                       6\n",
      "Excruded feeds                       6\n",
      "Floating feeds                       6\n",
      "Floating and sinking pellets         5\n",
      "                                    ..\n",
      "NO IMPLEMENTATION YET                1\n",
      "FOATING                              1\n",
      "Floating feeds and sinking feeds     1\n",
      "Top feed and local feed              1\n",
      "Floating and sinking                 1\n",
      "Name: What kind of feed are given to the fish, Length: 75, dtype: int64\n"
     ]
    }
   ],
   "source": [
    "print(data['What kind of feed are given to the fish'].value_counts())"
   ]
  },
  {
   "cell_type": "code",
   "execution_count": 41,
   "id": "3d849a69",
   "metadata": {},
   "outputs": [
    {
     "name": "stdout",
     "output_type": "stream",
     "text": [
      "None                                             49\n",
      "Non                                              12\n",
      "Nill                                              7\n",
      "No                                                5\n",
      "NONE                                              4\n",
      "Lime                                              2\n",
      "Not applicable                                    2\n",
      "Organic fertilizer                                2\n",
      "None                                              2\n",
      "Organic                                           2\n",
      "Nill                                              2\n",
      "I'm into processing                               1\n",
      "NIL                                               1\n",
      "Organic                                           1\n",
      "Natural                                           1\n",
      "only salt for sterilizing and  disinfect pond     1\n",
      "Non                                               1\n",
      "Not Applicable                                    1\n",
      "Poultry dung                                      1\n",
      "Agricultural lime.                                1\n",
      "Lime stone                                        1\n",
      "0                                                 1\n",
      "Not applicable                                    1\n",
      "Lime and animal dung                              1\n",
      "Name: What type of fertilizer is used in the ponds., dtype: int64\n"
     ]
    }
   ],
   "source": [
    "print(data['What type of fertilizer is used in the ponds.'].value_counts())"
   ]
  },
  {
   "cell_type": "code",
   "execution_count": 42,
   "id": "e03d300f",
   "metadata": {},
   "outputs": [
    {
     "name": "stdout",
     "output_type": "stream",
     "text": [
      "Manual                                                    26\n",
      "Scooping                                                   7\n",
      "Scooping                                                   7\n",
      "Scope net                                                  5\n",
      "Drag net                                                   5\n",
      "Farm gates                                                 4\n",
      "Scope net                                                  4\n",
      "Manual                                                     4\n",
      "Farm gates                                                 4\n",
      "Drag net                                                   3\n",
      "Dragging                                                   2\n",
      "Manually                                                   2\n",
      "Drag net,complet water drain                               1\n",
      "Collapsible pond                                           1\n",
      "Buys from farmers                                          1\n",
      "None                                                       1\n",
      "Basket                                                     1\n",
      "DRAIN WATER FROM THE TANK  AND SCALE FISH FOR SALES        1\n",
      "Total water drain, drag net                                1\n",
      "Drag net and totally drain of water                        1\n",
      "Net Draging                                                1\n",
      "Farm gate harvesting ( manual  harvesting)                 1\n",
      "Basket scooping                                            1\n",
      "Manual dragging                                            1\n",
      "Uses smoking klin                                          1\n",
      ",Manual                                                    1\n",
      "Use of smoking klin for processing                         1\n",
      "Hand dragging,manual                                       1\n",
      "Packing                                                    1\n",
      "SCOOPING AND DRAGGING                                      1\n",
      "Farm gate harvesting                                       1\n",
      "Pack for sale at 1kg table size                            1\n",
      "DRAINING OF WATER                                          1\n",
      "DRAIN WATER FROM THE POND                                  1\n",
      "DRAIN WATER FROM PONDS                                     1\n",
      "MANUAL                                                     1\n",
      "Dragged net                                                1\n",
      "DRAIN WATER FROM THE TANK                                  1\n",
      "At table size of average 1kg                               1\n",
      "Float through                                              1\n",
      "DRAIN WATER FROM THE TANK                                  1\n",
      "DRAIN WATER FROM THE TANK and sale at 1kg table size.      1\n",
      "Door step harvesting                                       1\n",
      "I'm into processing                                        1\n",
      "NET  HARVESTING                                            1\n",
      "NET                                                        1\n",
      "DRAGGING OR SCOOPING                                       1\n",
      "SCOOPING OR DRAGGING                                       1\n",
      "SCOOPING                                                   1\n",
      "SCOOPING,                                                  1\n",
      "DRAGGING                                                   1\n",
      "Door step harvest                                          1\n",
      "Net, manually done.                                        1\n",
      "Name: Methods of harvesting, dtype: int64\n"
     ]
    }
   ],
   "source": [
    "print(data['Methods of harvesting'].value_counts())"
   ]
  },
  {
   "cell_type": "code",
   "execution_count": 43,
   "id": "201acfdb",
   "metadata": {},
   "outputs": [
    {
     "name": "stdout",
     "output_type": "stream",
     "text": [
      "Direct      86\n",
      "Indirect    38\n",
      "Name: What kind of Labour is used , dtype: int64\n"
     ]
    }
   ],
   "source": [
    "print(data['What kind of Labour is used '].value_counts())"
   ]
  },
  {
   "cell_type": "code",
   "execution_count": 44,
   "id": "0fa8b120",
   "metadata": {},
   "outputs": [
    {
     "name": "stdout",
     "output_type": "stream",
     "text": [
      "Yes    113\n",
      "No      16\n",
      "Name: Do you use fish farming technology presently? , dtype: int64\n"
     ]
    }
   ],
   "source": [
    "print(data['Do you use fish farming technology presently? '].value_counts())"
   ]
  },
  {
   "cell_type": "code",
   "execution_count": 45,
   "id": "be8a3968",
   "metadata": {},
   "outputs": [
    {
     "name": "stdout",
     "output_type": "stream",
     "text": [
      "Yes    79\n",
      "No     50\n",
      "Name: Does your fish farm meet the standard requirement from various importing countries desiring export of aquaculture from Nigeria, dtype: int64\n"
     ]
    }
   ],
   "source": [
    "print(data['Does your fish farm meet the standard requirement from various importing countries desiring export of aquaculture from Nigeria'].value_counts())"
   ]
  },
  {
   "cell_type": "code",
   "execution_count": 46,
   "id": "7c29b174",
   "metadata": {},
   "outputs": [
    {
     "name": "stdout",
     "output_type": "stream",
     "text": [
      "Yes    76\n",
      "No     28\n",
      "Name: Does the farm operate independently or as part of a vertically integrated operation? , dtype: int64\n"
     ]
    }
   ],
   "source": [
    "print(data['Does the farm operate independently or as part of a vertically integrated operation? '].value_counts())"
   ]
  },
  {
   "cell_type": "markdown",
   "id": "9fc1398a",
   "metadata": {},
   "source": [
    "## Please also check"
   ]
  },
  {
   "cell_type": "code",
   "execution_count": 47,
   "id": "39e33e87",
   "metadata": {},
   "outputs": [
    {
     "name": "stdout",
     "output_type": "stream",
     "text": [
      "1000                             16\n",
      "500                               8\n",
      "Nill                              5\n",
      "5000                              5\n",
      "Nil                               4\n",
      "3000                              4\n",
      "1200                              4\n",
      "6000                              3\n",
      "10000                             3\n",
      "1500                              2\n",
      "None                              2\n",
      "600                               2\n",
      "800                               2\n",
      "4500                              2\n",
      "3500                              2\n",
      "4000                              2\n",
      "400                               1\n",
      "200 per day                       1\n",
      "Little                            1\n",
      "20000                             1\n",
      "Small size                        1\n",
      "300kg                             1\n",
      "10                                1\n",
      "750                               1\n",
      "None                              1\n",
      "500 birds                         1\n",
      "1200 birds                        1\n",
      "1000 birds                        1\n",
      "1250                              1\n",
      "5000 birds                        1\n",
      "3000 point of lay birds           1\n",
      "2000 birds, 12,000 Catfish,       1\n",
      "2800                              1\n",
      "IMPLEMENTATION YET TO BE DONE     1\n",
      "430 Birds                         1\n",
      "60                                1\n",
      "1Plot                             1\n",
      "8 Units                           1\n",
      "2000                              1\n",
      "1/4 Plot                          1\n",
      "3/4 Plot                          1\n",
      "Processing                        1\n",
      "Processing                        1\n",
      "7500                              1\n",
      "7000                              1\n",
      "18000                             1\n",
      "300                               1\n",
      "NOT  YET                          1\n",
      "10,000                            1\n",
      "150000                            1\n",
      "15000                             1\n",
      "20 KG                             1\n",
      "70tons per day                    1\n",
      "000                               1\n",
      "Name: What is the total capacity of this farm?, dtype: int64\n"
     ]
    }
   ],
   "source": [
    "print(data['What is the total capacity of this farm?'].value_counts())"
   ]
  },
  {
   "cell_type": "code",
   "execution_count": 48,
   "id": "fd8e6ee9",
   "metadata": {},
   "outputs": [
    {
     "name": "stdout",
     "output_type": "stream",
     "text": [
      "No     84\n",
      "Yes     4\n",
      "Name: Does your poultry farm have bird hatchery that provides high quality hatched eggs?, dtype: int64\n"
     ]
    }
   ],
   "source": [
    "print(data['Does your poultry farm have bird hatchery that provides high quality hatched eggs?'].value_counts())"
   ]
  },
  {
   "cell_type": "markdown",
   "id": "4a798703",
   "metadata": {},
   "source": [
    "## This too"
   ]
  },
  {
   "cell_type": "code",
   "execution_count": 50,
   "id": "dd180415",
   "metadata": {},
   "outputs": [
    {
     "name": "stdout",
     "output_type": "stream",
     "text": [
      "Vaccination                                                                                                      4\n",
      "Bio security.  Vaccination.  Fumigation                                                                          2\n",
      "Not applicable                                                                                                   1\n",
      "Bio security and fumigation                                                                                      1\n",
      "Non-security. Fumigation.  Vaccination                                                                           1\n",
      "                                                                                                                ..\n",
      "FREQUENT  FUMIGATION OF THE  ENVIRONMENT                                                                         1\n",
      "GOD FIRST,   KEEPING THE  ENVIRONMENT  TIDY,  BIOSECURITY  AND  KEEP  TO  THE  RULES OF  POULTRY  MANAGEMENT     1\n",
      "FOLLOW  VACCINATION  REGIME AND  ADVISE  FROM  AGRIC  OFFICERS                                                   1\n",
      "FOLLOW  VACCINATION   REGIME, AND BIOSECURITY  MEASURES                                                          1\n",
      "Continuous fumigation and diseases control                                                                       1\n",
      "Name: How do you mitigate against disease outbreak in your farm?, Length: 84, dtype: int64\n"
     ]
    }
   ],
   "source": [
    "print(data['How do you mitigate against disease outbreak in your farm?'].value_counts())"
   ]
  },
  {
   "cell_type": "code",
   "execution_count": 51,
   "id": "05782014",
   "metadata": {},
   "outputs": [
    {
     "name": "stdout",
     "output_type": "stream",
     "text": [
      "No     55\n",
      "Yes    46\n",
      "Name: Does your poultry farm meet the standard requirement from various importing countries desiring export of poultry produce from Nigeria?, dtype: int64\n"
     ]
    }
   ],
   "source": [
    "print(data['Does your poultry farm meet the standard requirement from various importing countries desiring export of poultry produce from Nigeria?'].value_counts())"
   ]
  },
  {
   "cell_type": "code",
   "execution_count": 52,
   "id": "407de657",
   "metadata": {},
   "outputs": [
    {
     "name": "stdout",
     "output_type": "stream",
     "text": [
      "Yes    65\n",
      "No     39\n",
      "Name: Does your farm have access to modernized technology?, dtype: int64\n"
     ]
    }
   ],
   "source": [
    "print(data['Does your farm have access to modernized technology?'].value_counts())"
   ]
  },
  {
   "cell_type": "code",
   "execution_count": 53,
   "id": "0ea66f30",
   "metadata": {},
   "outputs": [
    {
     "name": "stdout",
     "output_type": "stream",
     "text": [
      "Yes    102\n",
      "No       2\n",
      "Name: Does your farm require any Government or technical assistance? , dtype: int64\n"
     ]
    }
   ],
   "source": [
    "print(data['Does your farm require any Government or technical assistance? '].value_counts())"
   ]
  },
  {
   "cell_type": "code",
   "execution_count": 54,
   "id": "41409915",
   "metadata": {},
   "outputs": [
    {
     "name": "stdout",
     "output_type": "stream",
     "text": [
      "Yes    27\n",
      "No      2\n",
      "Name: Does the farmer have access to improved agricultural inputs and other technologies?, dtype: int64\n"
     ]
    }
   ],
   "source": [
    "print(data['Does the farmer have access to improved agricultural inputs and other technologies?'].value_counts())"
   ]
  },
  {
   "cell_type": "code",
   "execution_count": 55,
   "id": "c0be1c07",
   "metadata": {},
   "outputs": [
    {
     "name": "stdout",
     "output_type": "stream",
     "text": [
      "Yes    18\n",
      "No     10\n",
      "Name:  Does your rice farm meet the standard requirement from various importing countries desiring export of rice from Nigeria?, dtype: int64\n"
     ]
    }
   ],
   "source": [
    "print(data[' Does your rice farm meet the standard requirement from various importing countries desiring export of rice from Nigeria?'].value_counts())"
   ]
  },
  {
   "cell_type": "code",
   "execution_count": null,
   "id": "73deabfd",
   "metadata": {},
   "outputs": [],
   "source": []
  }
 ],
 "metadata": {
  "kernelspec": {
   "display_name": "Python 3 (ipykernel)",
   "language": "python",
   "name": "python3"
  },
  "language_info": {
   "codemirror_mode": {
    "name": "ipython",
    "version": 3
   },
   "file_extension": ".py",
   "mimetype": "text/x-python",
   "name": "python",
   "nbconvert_exporter": "python",
   "pygments_lexer": "ipython3",
   "version": "3.9.7"
  }
 },
 "nbformat": 4,
 "nbformat_minor": 5
}
